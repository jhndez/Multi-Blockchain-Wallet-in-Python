{
 "cells": [
  {
   "cell_type": "code",
   "execution_count": 1,
   "metadata": {},
   "outputs": [
    {
     "name": "stdout",
     "output_type": "stream",
     "text": [
      "argue carry wool present duty train puppy hole deliver ability deputy slab\n"
     ]
    },
    {
     "data": {
      "text/plain": [
       "{'coin': 'BTC',\n",
       " 'seed': 'argue carry wool present duty train puppy hole deliver ability deputy slab',\n",
       " 'private_key': '44aaa925bf8cab7f543ec23f9ae3cd02d53bff7def8300de8d1fe866b88dae64',\n",
       " 'public_key': '046fa9b80b0076bd073189fe3d19ea7eb66482eef1c37f62d1b386f6dfa06a3000db716857c40dbb1fb0bf57ee0a4aa083307328f0368c4b8506c6412ac254f3bb',\n",
       " 'xprivate_key': 'xprv9s21ZrQH143K3RCWwv1A3SJYx8Ma97sq4ctXi6ttEJyy1tbS6ybL4XhuCSX1qE8Wq1SqyJtAMfkckBxrrgZdjj4R1j4Nje3s9mBVLBG1rak',\n",
       " 'xpublic_key': 'xpub661MyMwAqRbcFuGz3wYAQaFHWAC4YabgRqp8WVJVneWwtgvaeWuacL2P3jpTjXh7bh1TLB6D1ywmRxxxpmcASZCkFMMC5Y5DMTPU71fvnj5',\n",
       " 'address': '1JMSWuiGhBGoyHSe1eZVmNzBqLCf7YLVAr',\n",
       " 'wif': 'KyXBxxFhBHe9qZL4VhdGHAKkHpw54LMxB5NctJaqAU47bF6wQN1B',\n",
       " 'children': [{'private_key': '988bcea0bfde6872dc2563deb136312c78f0ad97ee81ab4c0b7cd7f0a2667ffc',\n",
       "   'public_key': '047f50f2eec75bd391c452b7ed2dbf25688a3b407ed97f601d2a35e5f4909f7d4c4fff758f9c7a52d34ac4cdeab6a7095f61fb15e3989e6ac8133c549424af2559',\n",
       "   'xpublic_key': 'xpub69HeFP56e3g5s4Wq6sNVer96U1eQoSJwb7ocisA9Ldncf8k51sbTgG5p9AnNDgy9LuYr7KJm3Yafv3wZtpVxsaDWyxGfT9BFwRArtgBaff7',\n",
       "   'xprivate_key': 'xprv9vJHqsYCog7neaSMzqqVHiCMuyovPyb6Dtt1vUkXnJFdnLQvULHD8TmLHszy4kR6v3pSxNu72R2CLegUdyeGPHwxR5xjf1DoJ5oPisigvh7',\n",
       "   'address': '19wjsvAhg3wgz4aBmEgLKGpgR2X9pSrny4',\n",
       "   'segwit': '3QdSsVYUDz4XjZYRvqJPfGL5Thwhc4Xssv',\n",
       "   'wif': 'L2LEuf9G5S1h8bp4vM5c6o4DEAhnbnd5AwrXxZsrRcbiJFpxTi1w',\n",
       "   'path': 'm/0',\n",
       "   'bip32_path': \"m/44'/0'/0'/0\",\n",
       "   'xpublic_key_prime': 'xpub69HeFP56e3g5s4Wq6sNVer96U1eQoSJwb7ocisA9Ldncf8k51sbTgG5p9AnNDgy9LuYr7KJm3Yafv3wZtpVxsaDWyxGfT9BFwRArtgBaff7',\n",
       "   'xprivate_key_prime': 'xprv9vJHqsYCog7neaSMzqqVHiCMuyovPyb6Dtt1vUkXnJFdnLQvULHD8TmLHszy4kR6v3pSxNu72R2CLegUdyeGPHwxR5xjf1DoJ5oPisigvh7'}],\n",
       " 'segwit': '3MtGecJFZvUXo8oDx8C9T82XLdqshEJWDF',\n",
       " 'xpublic_key_prime': 'xpub69HeFP5EyiD44Bmcw622SspSwYA5osZ8zzxVUL7xLtVsiAYVde46r6B92fN8YXDyKyboF17EoRLH3QrRbvKzmAxg6qpBu13KXU7WmXHZeaF',\n",
       " 'xprivate_key_prime': 'xprv9vJHqsYM9Lekqhh9q4V25jsiPWKbQQqHdn2tfwiLnYxtqNDM66jrJHrfBMjT9BKMVzD9UxNPxpZTsjQrftMo5bUyVt17rThr1jgc2kZ8st3'}"
      ]
     },
     "execution_count": 1,
     "metadata": {},
     "output_type": "execute_result"
    }
   ],
   "source": [
    "from bipwallet import wallet\n",
    "# generate 12 word mnemonic seed\n",
    "#seed = wallet.generate_mnemonic()\n",
    "seed = 'argue carry wool present duty train puppy hole deliver ability deputy slab'\n",
    "print(seed)# create bitcoin wallet\n",
    "w = wallet.create_wallet(network=\"BTC\", seed=seed, children=1)\n",
    "w\n",
    "#w['children'][5]['address']\n",
    "\n",
    "\n",
    "\n",
    "\n",
    "\n",
    "\n",
    "\n"
   ]
  },
  {
   "cell_type": "code",
   "execution_count": 3,
   "metadata": {},
   "outputs": [
    {
     "name": "stdout",
     "output_type": "stream",
     "text": [
      "{'Child_0': {'address': '12ui83pBvhzCL7UoQEwX6J7PcJzQubojmm',\n",
      "             'bip32_extended_private_key': 'xprvA2Uw3nBnaqi4b74qbWCjy98c6GemzKoCMup6yowkiYJxDvfH94tzTtKq8tSUZS8W6tpV1fFC7FkvNuKRuQLfcTixNyMNsMrLu6sCMLY2Nex',\n",
      "             'bip32_root_key': 'xprv9s21ZrQH143K2f5K1GYf3UFBeQCcMEEsQGXVpAF2Udp5AXXhUVBNKJFH2wzBrz97qg1zbxnj9JfQaFr5wPjSAtVW9UB8FLimiLZYh8ZogRM',\n",
      "             'coin': 'BTC',\n",
      "             'mnemonic_words': 'argue carry wool present duty train puppy hole '\n",
      "                               'deliver ability deputy slab',\n",
      "             'path': \"m/44'/0'/0'/0\",\n",
      "             'privatekey': 'L4hsZDuPcH8Xmvpor84ysjWUCbSRUcMYYUrjdA7Kiy671n42r5ce',\n",
      "             'publickey': '03d2646a1aaddcfc36dbec07a2d32d172d3d07b058c2daec8b289ddde5511b37e8'},\n",
      " 'Child_1': {'address': '1AJ2gQHPsavqfWGFKfpazCftaXTu5roRBF',\n",
      "             'bip32_extended_private_key': 'xprvA2Uw3nBnaqi4cGkfCQ4xqh2GB1CseXGX4nWuezQR4YNpVi7nUyaQww2aDyCzodkFGK6wp7SaZwdc4J8mvRjNCAm4Sb7aH3U3DrTQbcNWmMk',\n",
      "             'bip32_root_key': 'xprv9s21ZrQH143K2f5K1GYf3UFBeQCcMEEsQGXVpAF2Udp5AXXhUVBNKJFH2wzBrz97qg1zbxnj9JfQaFr5wPjSAtVW9UB8FLimiLZYh8ZogRM',\n",
      "             'coin': 'BTC',\n",
      "             'mnemonic_words': 'argue carry wool present duty train puppy hole '\n",
      "                               'deliver ability deputy slab',\n",
      "             'path': \"m/44'/0'/0'/1\",\n",
      "             'privatekey': 'KyUty6TTocbgbMehoGUZJyoK9X2rBrf77c57QvdPtk9RkZc8cuff',\n",
      "             'publickey': '03d8e0d5f901419d987bb3abadfdbdcc207348e44da992357c70097d6067d40bf8'},\n",
      " 'Child_2': {'address': '1PsvKqvh6d3WZSLV3rmx9ZPj564eNB5rvx',\n",
      "             'bip32_extended_private_key': 'xprvA2Uw3nBnaqi4eSQTAnYS62dGn3RQkkwHs8J3EXZiy2qXfGLXBzehrxoy7sFe7rkRKBLyX25cHzJtzmrLmkPJQvHZSpgJe6wJZHSZLHXSgLn',\n",
      "             'bip32_root_key': 'xprv9s21ZrQH143K2f5K1GYf3UFBeQCcMEEsQGXVpAF2Udp5AXXhUVBNKJFH2wzBrz97qg1zbxnj9JfQaFr5wPjSAtVW9UB8FLimiLZYh8ZogRM',\n",
      "             'coin': 'BTC',\n",
      "             'mnemonic_words': 'argue carry wool present duty train puppy hole '\n",
      "                               'deliver ability deputy slab',\n",
      "             'path': \"m/44'/0'/0'/2\",\n",
      "             'privatekey': 'L2Rq1D5RAE2ajCMgnXoPZUtby9ZEuwHChSRxm9nuyF2pgNSBrtNk',\n",
      "             'publickey': '037f8a393ad4415a4a4fd75eebd067a771ca8958e8702f013316f8f8976ac92400'}}\n"
     ]
    }
   ],
   "source": [
    "import pprint\n",
    "import binascii\n",
    "import mnemonic\n",
    "import bip32utils\n",
    "def bip39(mnemonic_words, children):\n",
    "    # mnemonic_words: 12 word mnemonic.\n",
    "    #children: positive integer for num of address desired.\n",
    "    #FUTURE IMPLEMENT...\n",
    "    # choose coin\n",
    "    #- return main account information\n",
    "    #'''\n",
    "    mobj = mnemonic.Mnemonic(\"english\")\n",
    "    seed = mobj.to_seed(mnemonic_words)\n",
    "    holder = {}\n",
    "    if children < 0:\n",
    "        raise ValueError('Children must be positive.')\n",
    "    for child in range(children):\n",
    "        bip32_root_key_obj = bip32utils.BIP32Key.fromEntropy(seed)\n",
    "        bip32_child_key_obj = bip32_root_key_obj.ChildKey(\n",
    "            44 + bip32utils.BIP32_HARDEN\n",
    "                ).ChildKey(\n",
    "                0 + bip32utils.BIP32_HARDEN\n",
    "                ).ChildKey(\n",
    "            0 + bip32utils.BIP32_HARDEN\n",
    "            ).ChildKey(0).ChildKey(child)\n",
    "        template = {\n",
    "        'mnemonic_words': mnemonic_words,\n",
    "        'bip32_root_key': bip32_root_key_obj.ExtendedKey(),\n",
    "        'bip32_extended_private_key': bip32_child_key_obj.ExtendedKey(),\n",
    "        'path': f\"m/44'/0'/0'/{child}\",\n",
    "        'address': bip32_child_key_obj.Address(),\n",
    "        'publickey': binascii.hexlify(bip32_child_key_obj.PublicKey()).decode(),\n",
    "        'privatekey': bip32_child_key_obj.WalletImportFormat(),\n",
    "        'coin': 'BTC'\n",
    "        }\n",
    "        holder[f'Child_{child}'] = template\n",
    "    return holder\n",
    "mnemonic_words = 'argue carry wool present duty train puppy hole deliver ability deputy slab'\n",
    "children = 3\n",
    "pprint.pprint(bip39(mnemonic_words, children))\n"
   ]
  },
  {
   "cell_type": "code",
   "execution_count": 10,
   "metadata": {},
   "outputs": [],
   "source": [
    "\n",
    "import subprocess\n",
    "import json\n",
    "command = r'C:\\Users\\johnh\\Desktop\\PREWORK_JSH\\Wallet\\hd-wallet-derive --mnemonic=\"argue carry wool present duty train puppy hole deliver ability deputy slab\" --cols=path,address,privkey,pubkey -g --format=json'\n",
    "p = subprocess.Popen(command, stdout=subprocess.PIPE, shell=True)\n",
    "(output, err) = p.communicate()\n",
    "p_status = p.wait()\n",
    "keys=json.loads(output)\n",
    "print(keys)\n",
    "\n",
    "output\n"
   ]
  },
  {
   "cell_type": "code",
   "execution_count": null,
   "metadata": {},
   "outputs": [],
   "source": []
  }
 ],
 "metadata": {
  "kernelspec": {
   "display_name": "Python 3",
   "language": "python",
   "name": "python3"
  },
  "language_info": {
   "codemirror_mode": {
    "name": "ipython",
    "version": 3
   },
   "file_extension": ".py",
   "mimetype": "text/x-python",
   "name": "python",
   "nbconvert_exporter": "python",
   "pygments_lexer": "ipython3",
   "version": "3.7.5"
  }
 },
 "nbformat": 4,
 "nbformat_minor": 4
}
